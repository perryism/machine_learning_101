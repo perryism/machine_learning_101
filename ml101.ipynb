{
 "cells": [
  {
   "cell_type": "markdown",
   "metadata": {},
   "source": [
    "## Introduction\n",
    "\n",
    "Machine learning is a type of artificial intelligence (AI) that provides computers with the ability to learn without being explicitly programmed. \n"
   ]
  },
  {
   "cell_type": "markdown",
   "metadata": {},
   "source": [
    "### How do we make decisions?\n",
    "\n",
    "We learned from our experience and also what people tell us.  \n",
    "\n",
    "![pipe](https://0.s3.envato.com/files/134679909/Preview%20Image%20template.jpg)\n",
    "\n",
    "If you see a pipe in front of you, how many of you would go inside?   Our experiment tells us:\n",
    "\n",
    "1. There is no reason for me to go inside because it could be dangerous.\n",
    "2. It is dark inside.  Chances are I am not going to see anything."
   ]
  },
  {
   "cell_type": "markdown",
   "metadata": {},
   "source": [
    "## Not everyone feels the same way\n",
    "\n",
    "There is one person who, I gurantee, would go into a pipe everytime he sees it.  \n",
    "\n",
    ".\n",
    "\n",
    ".\n",
    "\n",
    ".\n",
    "\n",
    ".\n",
    "\n",
    ".\n",
    "\n",
    ".\n",
    "\n",
    ".\n",
    "\n",
    ".\n",
    "\n",
    ".\n",
    "\n",
    ".\n",
    "\n",
    ".\n",
    "\n",
    ".\n",
    "\n",
    "\n",
    "![inside pipe](http://telebunny.net/toastyblog/wp-content/uploads/2013/08/anatomyofmario-1012.gif)\n",
    "\n",
    "Because everyone has different experience and the data we use to infer to our decision is different.   There are good things that we learn and also bad things that we learned.  This applies to Machine learning too.  If a computer doesn't learn enough, it would make a wrong decision(underfitting).  If a computer is too confident of its data, its decision becomes biaed(overfitting).   Today, we will talk about some popular approaches how a computer makes decisions.  "
   ]
  },
  {
   "cell_type": "markdown",
   "metadata": {
    "collapsed": true,
    "slideshow": {
     "slide_type": "-"
    }
   },
   "source": [
    "## How can we learn from data?\n",
    "\n",
    "I was given a problem a couple years ago.  Given a job description, I needed to determine what job category the text belonged to.  As a programmer, I found the problem quite challenging.  \n",
    "\n",
    "The intiative thought was that only if I had a list of keywords for each job cateogies, I could have a for example,\n",
    "\n",
    "if text.include? \"nursing\" || test.include? \"hospital\" || test.include? \"\"........\n",
    "\n",
    "It's very complicated.  When you think of it, each word should have its weights associate with a job category. \n",
    "\n",
    "for example,\n",
    "phsycial therapy   hospital 0.5 injection 0.2\n",
    "nursing   hospital 0.7 injection 0.6\n",
    "\n",
    "Furthermore, it's a very tedious task to maintain the list and their weights.  Something was really wrong with this approach. Then, I was introduced to Machine Learning.\n",
    "\n",
    "We are going to go over some basic technique or concept in ML.  "
   ]
  },
  {
   "cell_type": "markdown",
   "metadata": {
    "slideshow": {
     "slide_type": "slide"
    }
   },
   "source": [
    "## Supervised Learning\n",
    "\n",
    "![supervised learning](https://upload.wikimedia.org/math/f/9/a/f9a90c16e4169ca5525124c8d64f2f76.png)\n",
    "\n",
    "- [Regression](linear%20regression%20models.ipynb)\n",
    "- [Overfitting vs Underfitting](Overfitting%20vs%20Underfitting.ipynb)\n",
    "- Regularization\n",
    "- Cross Validation\n",
    "- [Classification](classification.ipynb)\n",
    "\n",
    "## Unsupervised Learning\n",
    "- [Clustering](clustering.ipynb)\n",
    "- [Topic Modeling](topic_modeling.ipynb)\n",
    "\n",
    "## What else? \n",
    "- Recommendation System\n",
    "  - Netflix offered a prize of one million dollars to anyone who could beat their recommendation benchmark.\n",
    "    - Collaborative filtering\n",
    "    - User-based\n",
    "    - Item-based\n",
    "    - Cosine similarity\n",
    "- Ensembles\n",
    "    - Combine weak models\n",
    "- Optimizing\n",
    "    - Cluster computing\n",
    "    - Sparse Matrix\n",
    "    - GPU    \n",
    "- Anomaly Detection\n",
    "    - K Means\n",
    "    - SVM\n",
    "    - Supervised? or Unsupervised?\n",
    "- Feature Engineering\n",
    "- Natural language processing \n",
    "    - Stemming\n",
    "    - N-gram\n",
    "    - Semantic Analysis\n",
    "- Data Visualization\n",
    "    \n",
    "## How to get started?\n",
    "\n",
    "- [Take a class](https://www.coursera.org/learn/machine-learning)\n",
    "- [Join competitions](http://kaggle.com/perryism)\n",
    "- [Join community](https://github.com/scipy/scipy/blob/ab13e10ba64dee9c24183cdf75a1b9d23576186d/tools/authors.py#L111)\n",
    "\n",
    "\n",
    "## Think Big\n",
    "\n"
   ]
  },
  {
   "cell_type": "markdown",
   "metadata": {},
   "source": [
    "[mario video](https://flowingdata.com/2015/06/15/automated-super-mario-world-gameplay-through-machine-learning/)"
   ]
  }
 ],
 "metadata": {
  "kernelspec": {
   "display_name": "Python 2",
   "language": "python",
   "name": "python2"
  },
  "language_info": {
   "codemirror_mode": {
    "name": "ipython",
    "version": 2
   },
   "file_extension": ".py",
   "mimetype": "text/x-python",
   "name": "python",
   "nbconvert_exporter": "python",
   "pygments_lexer": "ipython2",
   "version": "2.7.11"
  }
 },
 "nbformat": 4,
 "nbformat_minor": 0
}
