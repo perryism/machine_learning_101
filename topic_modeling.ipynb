{
 "cells": [
  {
   "cell_type": "code",
   "execution_count": 2,
   "metadata": {
    "collapsed": true
   },
   "outputs": [],
   "source": [
    "import pandas as pds\n",
    "\n",
    "amazon = pds.read_csv('../../data/sentiment_labelled_sentences/amazon_cells_labelled.txt', sep=\"\\t\", header=None)\n",
    "imdb = pds.read_csv('../../data/sentiment_labelled_sentences/imdb_labelled.txt', sep=\"\\t\", header=None)\n",
    "yelp = pds.read_csv('../../data/sentiment_labelled_sentences/yelp_labelled.txt', sep=\"\\t\", header=None)"
   ]
  },
  {
   "cell_type": "code",
   "execution_count": 3,
   "metadata": {
    "collapsed": false
   },
   "outputs": [],
   "source": [
    "text = imdb[0].values.tolist() + yelp[0].values.tolist() \n",
    "\n",
    "from sklearn.feature_extraction.text import CountVectorizer\n",
    "vectorizer = CountVectorizer(stop_words='english', ngram_range=(1, 2))\n",
    "X = vectorizer.fit_transform(text)"
   ]
  },
  {
   "cell_type": "code",
   "execution_count": 4,
   "metadata": {
    "collapsed": false
   },
   "outputs": [
    {
     "name": "stderr",
     "output_type": "stream",
     "text": [
      "WARNING:lda:all zero row in document-term matrix found\n"
     ]
    }
   ],
   "source": [
    "import lda\n",
    "import numpy as np\n",
    "model = lda.LDA(n_topics=2, n_iter=5000, random_state=1)\n",
    "model.fit(X)  # model.fit_transform(X) is also available\n",
    "topic_word = model.topic_word_  # model.components_ also works"
   ]
  },
  {
   "cell_type": "code",
   "execution_count": 29,
   "metadata": {
    "collapsed": false
   },
   "outputs": [
    {
     "name": "stdout",
     "output_type": "stream",
     "text": [
      "Topic 0: movie,film,just,bad,time,like,good,really,place,great,don,experience,think,make,service\n",
      "Topic 1: food,good,place,like,ordered,great,just,service,came,order,got,time,menu,ve,chicken\n"
     ]
    }
   ],
   "source": [
    "n_top_words = 15\n",
    "vocab = vectorizer.get_feature_names()\n",
    "for i, topic_dist in enumerate(topic_word):\n",
    "    topic_words = np.array(vocab)[np.argsort(topic_dist)][:-(n_top_words+1):-1]\n",
    "    print('Topic {}: {}'.format(i, ','.join(topic_words)))"
   ]
  }
 ],
 "metadata": {
  "kernelspec": {
   "display_name": "Python 2",
   "language": "python",
   "name": "python2"
  },
  "language_info": {
   "codemirror_mode": {
    "name": "ipython",
    "version": 2
   },
   "file_extension": ".py",
   "mimetype": "text/x-python",
   "name": "python",
   "nbconvert_exporter": "python",
   "pygments_lexer": "ipython2",
   "version": "2.7.11"
  }
 },
 "nbformat": 4,
 "nbformat_minor": 0
}
